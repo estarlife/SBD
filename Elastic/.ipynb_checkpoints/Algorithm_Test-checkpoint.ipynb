{
 "cells": [
  {
   "cell_type": "code",
   "execution_count": 1,
   "metadata": {},
   "outputs": [],
   "source": [
    "def saveData(data, filename):\n",
    "    #np.savez(filename,data = data)\n",
    "    output = open(filename, 'wb')\n",
    "    # Pickle dictionary using protocol 0.\n",
    "    pickle.dump(data, output)\n",
    "    output.close()\n",
    "\n",
    "def loadData(filename):\n",
    "    pkl_file = open(filename, 'rb')\n",
    "    data = pickle.load(pkl_file)\n",
    "\n",
    "    pkl_file.close()\n",
    "    #loader = np.load(filename)\n",
    "    return data"
   ]
  },
  {
   "cell_type": "code",
   "execution_count": 6,
   "metadata": {},
   "outputs": [],
   "source": [
    "import os\n",
    "import re\n",
    "import sys\n",
    "import numpy as np # linear algebra\n",
    "import pandas as pd # data processing, CSV file I/O\n",
    "import matplotlib.pyplot as plt\n",
    "import seaborn as sns\n",
    "import numpy as np\n",
    "import math\n",
    "import scipy.io as sio\n",
    "import scipy.sparse as sp\n",
    "from scipy.sparse import csc_matrix\n",
    "import csv\n",
    "import matplotlib.pyplot as plt\n",
    "import datetime\n",
    "import time\n",
    "import os\n",
    "import pickle\n",
    "from math import radians, cos, sin, asin, sqrt, degrees, atan2, ceil\n",
    "\n",
    "%matplotlib inline\n",
    "sys.path.append('../')"
   ]
  },
  {
   "cell_type": "code",
   "execution_count": 10,
   "metadata": {},
   "outputs": [
    {
     "data": {
      "text/plain": [
       "array([[1477969147, 104.07513, 30.727240000000002],\n",
       "       [1477969150, 104.07513, 30.72702],\n",
       "       [1477969154, 104.07504, 30.72672],\n",
       "       [1477969156, 104.07497, 30.7263],\n",
       "       [1477969159, 104.07497, 30.725820000000002],\n",
       "       [1477969162, 104.07496, 30.725440000000003],\n",
       "       [1477969168, 104.07489, 30.724870000000003],\n",
       "       [1477969171, 104.07476, 30.724559999999997],\n",
       "       [1477969174, 104.07457, 30.72434],\n",
       "       [1477969177, 104.07434, 30.724059999999998],\n",
       "       [1477969180, 104.07422, 30.72379],\n",
       "       [1477969183, 104.07424, 30.723509999999997],\n",
       "       [1477969186, 104.07449, 30.72315],\n",
       "       [1477969189, 104.07481, 30.723],\n",
       "       [1477969193, 104.07506, 30.72298],\n",
       "       [1477969195, 104.07539, 30.72301],\n",
       "       [1477969198, 104.07576, 30.72308]], dtype=object)"
      ]
     },
     "execution_count": 10,
     "metadata": {},
     "output_type": "execute_result"
    }
   ],
   "source": [
    "trajectory=loadData('../trajectory')\n",
    "trajectory[0]"
   ]
  },
  {
   "cell_type": "code",
   "execution_count": 11,
   "metadata": {},
   "outputs": [
    {
     "data": {
      "text/plain": [
       "196046"
      ]
     },
     "execution_count": 11,
     "metadata": {},
     "output_type": "execute_result"
    }
   ],
   "source": [
    "processed_trajectory = []\n",
    "for traj in trajectory:\n",
    "    if len(traj) > 10:\n",
    "        processed_trajectory.append(traj)\n",
    "len(processed_trajectory)"
   ]
  },
  {
   "cell_type": "code",
   "execution_count": null,
   "metadata": {},
   "outputs": [],
   "source": []
  },
  {
   "cell_type": "code",
   "execution_count": 12,
   "metadata": {},
   "outputs": [],
   "source": [
    "# def transform_len_angular(traj):\n",
    "#     tmp = [[0, 0] for _ in range(len(traj))]\n",
    "#     for i in range(len(traj)):\n",
    "#         if i == 0:\n",
    "#             tmp[i][0] = 0\n",
    "#             tmp[i][1] = 0\n",
    "#         else:\n",
    "#             radLatA = radians(traj[i][2])\n",
    "#             radLonA = radians(traj[i][1])\n",
    "#             radLatB = radians(traj[i - 1][2])\n",
    "#             radLonB = radians(traj[i - 1][1])\n",
    "            \n",
    "#             dLon = radLonA - radLonB\n",
    "#             dLat = radLatA - radLatB\n",
    "#             a = sin(dLat / 2) ** 2 + cos(radLatB) *cos(radLatA) * sin(dLon / 2) ** 2\n",
    "#             c = 2 * asin(sqrt(a))\n",
    "#             d = c * 6371\n",
    "# #             print(i, dLat, dLon, radLatB, radLonB)\n",
    "#             tmp[i][0] = d\n",
    "             \n",
    "#             y = sin(dLon) * cos(radLatB)\n",
    "#             x = cos(radLatA) * sin(radLatB) - sin(radLatA) * cos(radLatB) * cos(dLon)\n",
    "#             angular = degrees( atan2(y, x))\n",
    "#             angular = angular - tmp[i - 1][1]\n",
    "#             angular = (angular + 360) % 360\n",
    "#             if angular>180:\n",
    "#                 angular = angular - 360\n",
    "#             tmp[i][1] = angular\n",
    "#     return tmp\n",
    "# transform_len_angular(processed_trajectory[1])\n",
    "\n",
    "def calc_len_angular(ptA, ptB):\n",
    "    radLatA = radians(ptA[2])\n",
    "    radLonA = radians(ptA[1])\n",
    "    radLatB = radians(ptB[2])\n",
    "    radLonB = radians(ptB[1])\n",
    "\n",
    "    dLon = radLonB - radLonA\n",
    "    dLat = radLatB - radLatA\n",
    "    a = sin(dLat / 2) ** 2 + cos(radLatB) *cos(radLatA) * sin(dLon / 2) ** 2\n",
    "    c = 2 * asin(sqrt(a))\n",
    "    d = c * 6371\n",
    "#     print(i, dLat, dLon, radLatB, radLonB)\n",
    "    length = d\n",
    "\n",
    "    y = sin(dLon) * cos(radLatB)\n",
    "    x = cos(radLatA) * sin(radLatB) - sin(radLatA) * cos(radLatB) * cos(dLon)\n",
    "    angular = degrees( atan2(y, x))\n",
    "#     angular = (angular + 360) % 360\n",
    "#     if angular>180:\n",
    "#         angular = angular - 360\n",
    "    \n",
    "    return length, angular"
   ]
  },
  {
   "cell_type": "code",
   "execution_count": 21,
   "metadata": {},
   "outputs": [
    {
     "data": {
      "text/plain": [
       "(1129.992783072992, -169.28796475622326)"
      ]
     },
     "execution_count": 21,
     "metadata": {},
     "output_type": "execute_result"
    }
   ],
   "source": [
    "pa = [1, 104, 30]\n",
    "pb = [10, 102, 20]\n",
    "calc_len_angular(pa, pb)"
   ]
  },
  {
   "cell_type": "code",
   "execution_count": 22,
   "metadata": {},
   "outputs": [],
   "source": [
    "def Normalization(x, y):\n",
    "    query = np.array(x)\n",
    "    cand = np.array(y)\n",
    "    Max = np.amax([np.amax(query, axis = 0), np.amax(cand, axis = 0)], axis = 0)\n",
    "    Min = np.amin([np.amin(query, axis = 0), np.amin(cand, axis = 0)], axis = 0)\n",
    "    \n",
    "    query[:, 0] = (query[:, 0] - Min[0])/(Max[0] - Min[0])\n",
    "    cand[:, 0] = (cand[:, 0] - Min[0])/(Max[0] - Min[0])\n",
    "    query[:, 1] = (query[:, 1])/180.0\n",
    "    cand[:, 1] = (cand[:, 1])/180.0\n",
    "    return query, cand\n",
    "\n",
    "def dLAA(vectorA, vectorB):\n",
    "    return sqrt(vectorA[0]**2 + vectorB[0]**2 + 2 * vectorA[0] * vectorB[0] * cos(vectorA[1] - vectorB[1]))\n",
    "\n",
    "def distance_dtw(cand, query):\n",
    "    cand = cand_ang - average\n",
    "    cand = \n",
    "    n = len(cand)\n",
    "    m = len(query)\n",
    "    for i in range(n):\n",
    "        for j in range(m):\n",
    "            if self.flag[i,j] == 0:\n",
    "                cost =  np.linalg.norm(traj_C[i] - traj_Q[j])\n",
    "                self.D[i,j] = cost + min(self.D0[i,j],self.D0[i,j+1],self.D0[i+1,j])\n",
    "                self.flag[i,j] = 1\n",
    "                #print(self.D)\n",
    "    \n",
    "    \n",
    "    \n",
    "    tmp = query - cand\n",
    "    for i in range(len(tmp)):\n",
    "        if tmp[i][1] > 1:   #max angle discrimination is pi\n",
    "            tmp[i][1] = 2-tmp[i][1]\n",
    "    w =[[1.0 for i in range(2)] for j in range(len(query))]\n",
    "    dist_list = tmp * w\n",
    "    average_dist = sum(sum(abs(dist_list)))/(len(cand))\n",
    "    return average_dist\n",
    "\n",
    "def DTW(self, traj_C, traj_Q, skip=[]):\n",
    "        n = len(traj_C)\n",
    "        m = len(traj_Q)\n",
    "        for i in range(n):\n",
    "            if list(traj_C[i]) in skip:\n",
    "                if self.flag[i,0] == 0:\n",
    "                    self.D[i,:] = self.D[i-1,:]\n",
    "                    self.flag[i,:] = 1\n",
    "                continue\n",
    "            for j in range(m):\n",
    "                if self.flag[i,j] == 0:\n",
    "                    cost =  np.linalg.norm(traj_C[i] - traj_Q[j])\n",
    "                    self.D[i,j] = cost + min(self.D0[i,j],self.D0[i,j+1],self.D0[i+1,j])\n",
    "                    self.flag[i,j] = 1\n",
    "                    #print(self.D)\n",
    "        return self.D[n-1, m-1]\n",
    "\n",
    "def distance_anchor_aligning(cand, query):\n",
    "    \n",
    "    return average_dist"
   ]
  },
  {
   "cell_type": "code",
   "execution_count": null,
   "metadata": {},
   "outputs": [],
   "source": [
    "a= [[1,2], [2,3], [3,4],]"
   ]
  },
  {
   "cell_type": "code",
   "execution_count": 47,
   "metadata": {},
   "outputs": [
    {
     "name": "stdout",
     "output_type": "stream",
     "text": [
      "[[ 0. inf inf inf inf inf inf]\n",
      " [inf  0.  0.  0.  0.  0.  0.]\n",
      " [inf  0.  0.  0.  0.  0.  0.]\n",
      " [inf  0.  0.  0.  0.  0.  0.]\n",
      " [inf  0.  0.  0.  0.  0.  0.]\n",
      " [inf  0.  0.  0.  0.  0.  0.]\n",
      " [inf  0.  0.  0.  0.  0.  0.]\n",
      " [inf  0.  0.  0.  0.  0.  0.]\n",
      " [inf  0.  0.  0.  0.  0.  0.]]\n"
     ]
    }
   ],
   "source": [
    "from numpy import array, zeros, argmin, inf, equal, ndim\n",
    "# from scipy.spatial.distance import cdist\n",
    "\n",
    "def manhattan(x, y):\n",
    "    return abs(x - y)\n",
    "\n",
    "s1 = [1, 2, 3, 4, 5, 5, 5, 4]\n",
    "s2 = [3, 4, 5, 5, 5, 4]\n",
    "\n",
    "r, c = len(s1), len(s2)\n",
    "D0 = zeros((r+1,c+1))\n",
    "D0[0,1:] = inf\n",
    "D0[1:,0] = inf\n",
    "D1 = D0[1:,1:]\n",
    "#浅复制\n",
    "print(D0)\n",
    "\n"
   ]
  },
  {
   "cell_type": "code",
   "execution_count": 55,
   "metadata": {},
   "outputs": [
    {
     "name": "stdout",
     "output_type": "stream",
     "text": [
      "[[2. 3. 4. 4. 4. 3.]\n",
      " [1. 2. 3. 3. 3. 2.]\n",
      " [0. 1. 2. 2. 2. 1.]\n",
      " [1. 0. 1. 1. 1. 0.]\n",
      " [2. 1. 0. 0. 0. 1.]\n",
      " [2. 1. 0. 0. 0. 1.]\n",
      " [2. 1. 0. 0. 0. 1.]\n",
      " [1. 0. 1. 1. 1. 0.]]\n"
     ]
    }
   ],
   "source": [
    "for i in range(r):\n",
    "    for j in range(c):\n",
    "        D1[i,j] = manhattan(s1[i],s2[j])\n",
    "#生成原始距离矩阵\n",
    "print(D1)"
   ]
  },
  {
   "cell_type": "code",
   "execution_count": 54,
   "metadata": {},
   "outputs": [
    {
     "name": "stdout",
     "output_type": "stream",
     "text": [
      "[[2. 3. 4. 4. 4. 3.]\n",
      " [1. 2. 3. 3. 3. 2.]\n",
      " [0. 1. 2. 2. 2. 1.]\n",
      " [1. 0. 1. 1. 1. 0.]\n",
      " [2. 1. 0. 0. 0. 1.]\n",
      " [2. 1. 0. 0. 0. 1.]\n",
      " [2. 1. 0. 0. 0. 1.]\n",
      " [1. 0. 1. 1. 1. 0.]]\n",
      "[[ 2.  5.  9. 13. 17. 20.]\n",
      " [ 3.  4.  7. 10. 13. 15.]\n",
      " [ 3.  4.  6.  8. 10. 11.]\n",
      " [ 4.  3.  4.  5.  6.  6.]\n",
      " [ 6.  4.  3.  3.  3.  4.]\n",
      " [ 8.  5.  3.  3.  3.  4.]\n",
      " [10.  6.  3.  3.  3.  4.]\n",
      " [11.  6.  4.  4.  4.  3.]]\n"
     ]
    }
   ],
   "source": [
    "M = D1.copy()\n",
    "for i in range(r):\n",
    "    for j in range(c):\n",
    "        D1[i,j] += min(D0[i,j],D0[i,j+1],D0[i+1,j])\n",
    "#代码核心，动态计算最短距离"
   ]
  },
  {
   "cell_type": "code",
   "execution_count": 45,
   "metadata": {},
   "outputs": [
    {
     "name": "stdout",
     "output_type": "stream",
     "text": [
      "7 5\n",
      "[[ 2.  5.  9. 13. 17. 20.]\n",
      " [ 3.  4.  7. 10. 13. 15.]\n",
      " [ 3.  4.  6.  8. 10. 11.]\n",
      " [ 4.  3.  4.  5.  6.  6.]\n",
      " [ 6.  4.  3.  3.  3.  4.]\n",
      " [ 8.  5.  3.  3.  3.  4.]\n",
      " [10.  6.  3.  3.  3.  4.]\n",
      " [11.  6.  4.  4.  4.  3.]]\n",
      "[0, 1, 2, 3, 4, 5, 6, 7] [0, 0, 0, 1, 2, 3, 4, 5]\n",
      "[[ 2.  7. 16. 29. 46. 66.]\n",
      " [ 5.  6. 13. 23. 36. 51.]\n",
      " [ 8.  9. 12. 20. 30. 41.]\n",
      " [12. 11. 13. 17. 23. 29.]\n",
      " [18. 15. 14. 16. 19. 23.]\n",
      " [26. 20. 17. 17. 19. 23.]\n",
      " [36. 26. 20. 20. 20. 23.]\n",
      " [47. 32. 24. 24. 24. 23.]]\n",
      "23.0\n"
     ]
    }
   ],
   "source": [
    "i,j = array(D0.shape) - 2\n",
    "#最短路径\n",
    "print(i,j)\n",
    "p,q = [i],[j]\n",
    "while(i>0 or j>0):\n",
    "    tb = argmin((D0[i,j],D0[i,j+1],D0[i+1,j]))\n",
    "    if tb==0 :\n",
    "        i-=1\n",
    "        j-=1\n",
    "    elif tb==1 :\n",
    "        i-=1\n",
    "    else:\n",
    "        j-=1\n",
    "    p.insert(0,i)\n",
    "    q.insert(0,j)\n",
    "\n",
    "print(M)\n",
    "#原始距离矩阵\n",
    "print(p, q)\n",
    "#匹配路径过程\n",
    "print(D1)\n",
    "#Cost Matrix或者叫累积距离矩阵\n",
    "print(D1[-1,-1])\n",
    "#序列距离"
   ]
  },
  {
   "cell_type": "code",
   "execution_count": null,
   "metadata": {},
   "outputs": [],
   "source": []
  },
  {
   "cell_type": "code",
   "execution_count": null,
   "metadata": {},
   "outputs": [],
   "source": [
    "def ExactS(traj_c, traj_q, minLen):\n",
    "    subsim = 999999\n",
    "    subtraj = [0, len(traj_c)-1]\n",
    "    subset = {}\n",
    "    N = len(traj_c)\n",
    "    M = len(traj_q)\n",
    "    for k in range(M):\n",
    "        print(\"stage:\", k)\n",
    "        for m in range(k, M):\n",
    "            if m-k<minLen:\n",
    "                continue\n",
    "            for i in range(N):\n",
    "                for j in range(i, N):\n",
    "                    if j-i<minLen:\n",
    "                        continue\n",
    "                    temp = distance(cand[i:j+1], query[k:m+1])\n",
    "                    subset[(i, j, k, m)] = temp\n",
    "                    if temp < subsim:\n",
    "                        subsim = temp\n",
    "                        subtraj = (i, j, k, m)\n",
    "                        print(m-k)\n",
    "    return subsim, subtraj, subset"
   ]
  },
  {
   "cell_type": "code",
   "execution_count": null,
   "metadata": {},
   "outputs": [],
   "source": [
    "query = transformed_trajectory[2]\n",
    "cand = transformed_trajectory[1]\n",
    "minLen = 10"
   ]
  },
  {
   "cell_type": "code",
   "execution_count": null,
   "metadata": {},
   "outputs": [],
   "source": [
    "subsim, subtraj, subset  = ExactS(cand, query, minLen)\n",
    "print('sub-trajectory', subtraj)\n",
    "print('sub-similarity', subsim)"
   ]
  },
  {
   "cell_type": "code",
   "execution_count": null,
   "metadata": {},
   "outputs": [],
   "source": [
    "def SBLCS(traj_c, traj_q, minLen, error_dict):\n",
    "    cand, query = Normalization(traj_c, traj_q)\n",
    "    m = [[0 for i in range(len(query) + 1)] for j in range(len(cand) + 1)]  # 为方便后续计算，比字符串长度多了一列\n",
    "    maxx = 0\n",
    "    subsim = 999999\n",
    "    subtraj = [0, len(traj_c)-1]\n",
    "    subset = {}\n",
    "    for i in range(len(cand)):\n",
    "        print(\"stage:\", i)\n",
    "        for j in range(len(query)):\n",
    "            if abs(cand[i][0] - query[j][0]) < error_dict[0] and abs(cand[i][1] - query[j][1]) < error_dict[1]:\n",
    "                m[i + 1][j + 1] = m[i][j] + 1\n",
    "                if m[i+1][j+1]> maxx:\n",
    "                    maxx = m[i+1][j+1]\n",
    "                if m[i + 1][j + 1] > minLen:\n",
    "                    temp = distance(cand[i - m[i + 1][j + 1] + 1: i + 1], query[j - m[i + 1][j + 1] +1 : j + 1])\n",
    "                    subset[(i - m[i + 1][j + 1] + 1 , i, j - m[i + 1][j + 1] + 1 , j)] = temp\n",
    "                    if temp < subsim:\n",
    "                        subsim = temp\n",
    "                        subtraj = (i - m[i + 1][j + 1] + 1, i, j - m[i + 1][j + 1] + 1, j)\n",
    "                        print(m[i + 1][j + 1] )\n",
    "                        print('sub-trajectory', subtraj)\n",
    "                        print('sub-similarity', subsim)\n",
    "    return maxx, subsim, subtraj, subset"
   ]
  },
  {
   "cell_type": "code",
   "execution_count": null,
   "metadata": {},
   "outputs": [],
   "source": [
    "error_dict = [0.15, 0.15]\n",
    "query = transformed_trajectory[3]\n",
    "cand = transformed_trajectory[13]\n",
    "print(len(query), len(cand))"
   ]
  },
  {
   "cell_type": "code",
   "execution_count": null,
   "metadata": {},
   "outputs": [],
   "source": [
    "maxx, subsim, subtraj, subset  = SBLCS(cand, query, 10, error_dict) \n",
    "# subsim, subtraj, subset = SBLCS(cand, query, 7, error_dict) \n",
    "print('sub-trajectory', subtraj)\n",
    "print('sub-similarity', subsim)\n",
    "print(\"maxlen:\",maxx)"
   ]
  },
  {
   "cell_type": "code",
   "execution_count": null,
   "metadata": {},
   "outputs": [],
   "source": [
    "def value2symbol(value, table):\n",
    "    tmp = 0\n",
    "    vocab = ['a', 'b', 'c', 'd', 'e', 'f', 'g', 'h']\n",
    "    for idx in range(len(table[0])):\n",
    "        if value[0] > table[0][idx]:\n",
    "            tmp += 1\n",
    "    symbol = vocab[tmp]\n",
    "    tmp = 0\n",
    "    for idx in range(len(table[1])):\n",
    "        if value[1] > table[1][idx]:\n",
    "            tmp += 1\n",
    "    symbol = symbol +vocab[tmp]\n",
    "    return symbol\n",
    "    \n",
    "def generate_symbols(cand, query):\n",
    "    alpha_table = [[0.2, 0.4, 0.6, 0.8], [-0.5, -0.3, -0.15, 0, 0.15, 0.3, 0.5]]\n",
    "    symbol_cand = []\n",
    "    symbol_query = []\n",
    "    for i in range(len(cand)):\n",
    "        symbol_cand.append(value2symbol(cand[i], alpha_table))\n",
    "    for j in range(len(query)):\n",
    "        symbol_query.append(value2symbol(query[j], alpha_table))\n",
    "    return symbol_cand, symbol_query\n",
    "\n",
    "def SBSAX(traj_c, traj_q, minLen):\n",
    "    cand, query = Normalization(traj_c, traj_q)\n",
    "    symbol_c, symbol_q = generate_symbols(traj_c, traj_q)\n",
    "    subsim = 999999\n",
    "    subtraj = [0, len(traj_c)-1]\n",
    "    subset = {}\n",
    "    m = [[0 for i in range(len(query) + 1)] for j in range(len(cand) + 1)]\n",
    "    maxx = 0\n",
    "\n",
    "    for i in range(len(symbol_c)):\n",
    "        print(\"stage:\", i)\n",
    "        for j in range(len(symbol_q)):            \n",
    "            if symbol_c[i] == symbol_q[j]:\n",
    "                m[i + 1][j + 1] = m[i][j] + 1\n",
    "                if m[i+1][j+1]  > maxx:             \n",
    "                    maxx = m[i+1][j+1]\n",
    "                if m[i + 1][j + 1] > minLen :\n",
    "                    temp = distance(cand[i - m[i + 1][j + 1] + 1: i + 1], query[j - m[i + 1][j + 1] +1 : j + 1])\n",
    "                    subset[(i - m[i + 1][j + 1] + 1 , i, j - m[i + 1][j + 1] + 1 , j)] = temp\n",
    "                    if temp < subsim:\n",
    "                        subsim = temp\n",
    "                        subtraj = (i - m[i + 1][j + 1] + 1, i, j - m[i + 1][j + 1] + 1, j)\n",
    "                        print(m[i + 1][j + 1] )\n",
    "                        print('sub-trajectory', subtraj)\n",
    "                        print('sub-similarity', subsim)\n",
    "    return maxx, subsim, subtraj, subset"
   ]
  },
  {
   "cell_type": "code",
   "execution_count": null,
   "metadata": {},
   "outputs": [],
   "source": [
    "minLen = 10\n",
    "maxx, subsim, subtraj, subset  = SBSAX(cand, query, minLen) \n",
    "# subsim, subtraj, subset = SBLCS(cand, query, 7, error_dict) \n",
    "print('sub-trajectory', subtraj)\n",
    "print('sub-similarity', subsim)\n",
    "print(\"maxlen:\",maxx)"
   ]
  },
  {
   "cell_type": "code",
   "execution_count": null,
   "metadata": {},
   "outputs": [],
   "source": [
    "def SBHierachical(traj_c, traj_q, minLen, error_dict):\n",
    "    cand, query = Normalization(traj_c, traj_q)\n",
    "    m = [[0 for i in range(len(query) + 1)] for j in range(len(cand) + 1)]  # 为方便后续计算，比字符串长度多了一列\n",
    "    maxx = 0\n",
    "    subsim = 999999\n",
    "    subtraj = [0, len(traj_c)-1]\n",
    "    subset = {}\n",
    "    for i in range(len(cand)):\n",
    "        print(\"stage:\", i)\n",
    "        for j in range(len(query)):\n",
    "            if abs(cand[i][0] - query[j][0]) < error_dict[0] and abs(cand[i][1] - query[j][1]) < error_dict[1]:\n",
    "                m[i + 1][j + 1] = m[i][j] + 1\n",
    "                if m[i+1][j+1] > maxx:\n",
    "                    maxx = m[i+1][j+1]\n",
    "                if m[i + 1][j + 1] > minLen:\n",
    "                    temp = distance(cand[i - m[i + 1][j + 1] + 1: i + 1], query[j - m[i + 1][j + 1] +1 : j + 1])\n",
    "                    subset[(i - m[i + 1][j + 1] + 1 , i, j - m[i + 1][j + 1] + 1 , j)] = temp\n",
    "                    if temp < subsim:\n",
    "                        subsim = temp\n",
    "                        subtraj = (i - m[i + 1][j + 1] + 1, i, j - m[i + 1][j + 1] + 1, j)\n",
    "                        print(m[i + 1][j + 1] )\n",
    "                        print('sub-trajectory', subtraj)\n",
    "                        print('sub-similarity', subsim)\n",
    "    return maxx, subsim, subtraj, subset"
   ]
  }
 ],
 "metadata": {
  "kernelspec": {
   "display_name": "Python 3",
   "language": "python",
   "name": "python3"
  },
  "language_info": {
   "codemirror_mode": {
    "name": "ipython",
    "version": 3
   },
   "file_extension": ".py",
   "mimetype": "text/x-python",
   "name": "python",
   "nbconvert_exporter": "python",
   "pygments_lexer": "ipython3",
   "version": "3.7.3"
  }
 },
 "nbformat": 4,
 "nbformat_minor": 2
}
